{
 "cells": [
  {
   "cell_type": "markdown",
   "id": "9d5042bb-7135-4b6b-9da2-20789fedd37d",
   "metadata": {},
   "source": [
    "1+1\n"
   ]
  },
  {
   "cell_type": "markdown",
   "id": "cbf1f02e-bcda-4e5a-ae48-0369fcb9f73b",
   "metadata": {},
   "source": [
    "my title"
   ]
  },
  {
   "cell_type": "code",
   "execution_count": null,
   "id": "290f7237-2462-4b78-bcba-8d6f61aa5ee5",
   "metadata": {},
   "outputs": [],
   "source": [
    "1+1"
   ]
  }
 ],
 "metadata": {
  "kernelspec": {
   "display_name": "Python 3 (ipykernel)",
   "language": "python",
   "name": "python3"
  },
  "language_info": {
   "codemirror_mode": {
    "name": "ipython",
    "version": 3
   },
   "file_extension": ".py",
   "mimetype": "text/x-python",
   "name": "python",
   "nbconvert_exporter": "python",
   "pygments_lexer": "ipython3",
   "version": "3.10.0"
  }
 },
 "nbformat": 4,
 "nbformat_minor": 5
}
